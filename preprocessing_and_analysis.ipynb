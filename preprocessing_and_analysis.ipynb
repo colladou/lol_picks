{
 "cells": [
  {
   "cell_type": "code",
   "execution_count": 1,
   "metadata": {
    "collapsed": true
   },
   "outputs": [],
   "source": [
    "from __future__ import division, print_function\n",
    "import numpy as np\n",
    "import matplotlib.pyplot as plt\n",
    "%matplotlib inline\n",
    "from collections import Counter"
   ]
  },
  {
   "cell_type": "code",
   "execution_count": 2,
   "metadata": {
    "collapsed": true
   },
   "outputs": [],
   "source": [
    "file_name = \"pick.csv\"\n",
    "with open(file_name) as f:\n",
    "    content = f.readlines()"
   ]
  },
  {
   "cell_type": "code",
   "execution_count": 3,
   "metadata": {},
   "outputs": [
    {
     "name": "stdout",
     "output_type": "stream",
     "text": [
      "Number of samples: 826\n"
     ]
    }
   ],
   "source": [
    "num_samples = int(len(content)/3)\n",
    "print(\"Number of samples:\", num_samples)"
   ]
  },
  {
   "cell_type": "code",
   "execution_count": 4,
   "metadata": {
    "collapsed": true
   },
   "outputs": [],
   "source": [
    "character_lines = [content[i] for i in range(0, len(content), 3)]\n",
    "ban_lines = [content[i] for i in range(1, len(content), 3)]\n",
    "result_lines = [content[i] for i in range(2, len(content), 3)]"
   ]
  },
  {
   "cell_type": "code",
   "execution_count": 5,
   "metadata": {
    "collapsed": true
   },
   "outputs": [],
   "source": [
    "# Some of the ban lines are missing so we fill it with -1 (no ban)\n",
    "for pos, line in enumerate(ban_lines):\n",
    "    if line == \"\" or line == '\\n':\n",
    "        ban_lines[pos] = '-1, -1, -1, -1, -1, -1, -1, -1, -1, -1\\n'"
   ]
  },
  {
   "cell_type": "code",
   "execution_count": 6,
   "metadata": {
    "collapsed": true
   },
   "outputs": [],
   "source": [
    "character_picks = np.asarray([str.split(line.replace(\"\\n\", \"\"), \",\") for line in character_lines], dtype=int)\n",
    "character_bans = np.asarray([str.split(line.replace(\"\\n\", \"\"), \",\") for line in ban_lines], dtype=int)\n",
    "labels = np.asarray([line[0:3]==\"Win\" for line in result_lines], dtype=bool)\n",
    "\n",
    "assert character_picks.shape == character_bans.shape, [character_picks.shape, character_bans.shape]\n",
    "assert character_bans.shape[0] == labels.shape[0], [character_bans.shape[0], labels.shape[0]]\n",
    "assert character_bans.shape[1] == 10, character_bans.shape[1]"
   ]
  },
  {
   "cell_type": "code",
   "execution_count": 7,
   "metadata": {},
   "outputs": [
    {
     "name": "stdout",
     "output_type": "stream",
     "text": [
      "Unique character picks: 137\n",
      "Unique character bans: 125\n",
      "Win percentage by team 1: 0.47699757869249393\n"
     ]
    }
   ],
   "source": [
    "print(\"Unique character picks: %i\" % len(np.unique(character_picks)))\n",
    "print(\"Unique character bans: %i\" % len(np.unique(character_bans)))\n",
    "print(\"Win percentage by team 1: %s\" % str(np.sum(labels)/labels.shape[0]))"
   ]
  },
  {
   "cell_type": "code",
   "execution_count": 8,
   "metadata": {},
   "outputs": [
    {
     "data": {
      "text/plain": [
       "[(18, 351),\n",
       " (81, 262),\n",
       " (498, 215),\n",
       " (164, 191),\n",
       " (110, 191),\n",
       " (24, 189),\n",
       " (40, 184),\n",
       " (41, 179),\n",
       " (12, 175),\n",
       " (13, 163),\n",
       " (201, 155),\n",
       " (113, 151),\n",
       " (497, 144),\n",
       " (92, 139),\n",
       " (3, 138),\n",
       " (150, 138),\n",
       " (121, 130),\n",
       " (76, 130),\n",
       " (51, 127),\n",
       " (154, 124),\n",
       " (8, 123),\n",
       " (421, 113),\n",
       " (112, 112),\n",
       " (64, 112),\n",
       " (107, 111),\n",
       " (117, 111),\n",
       " (163, 110),\n",
       " (14, 109),\n",
       " (72, 108),\n",
       " (4, 100),\n",
       " (114, 93),\n",
       " (268, 90),\n",
       " (223, 90),\n",
       " (429, 90),\n",
       " (59, 89),\n",
       " (44, 88),\n",
       " (142, 87),\n",
       " (42, 86),\n",
       " (412, 85),\n",
       " (126, 80),\n",
       " (236, 76),\n",
       " (19, 73),\n",
       " (267, 71),\n",
       " (98, 71),\n",
       " (96, 70),\n",
       " (43, 69),\n",
       " (245, 68),\n",
       " (67, 65),\n",
       " (63, 64),\n",
       " (157, 63),\n",
       " (61, 62),\n",
       " (25, 62),\n",
       " (222, 58),\n",
       " (432, 57),\n",
       " (38, 55),\n",
       " (50, 54),\n",
       " (16, 53),\n",
       " (516, 53),\n",
       " (119, 52),\n",
       " (26, 52),\n",
       " (29, 48),\n",
       " (15, 47),\n",
       " (69, 44),\n",
       " (20, 43),\n",
       " (136, 42),\n",
       " (53, 38),\n",
       " (141, 37),\n",
       " (105, 36),\n",
       " (27, 35),\n",
       " (45, 34),\n",
       " (28, 33),\n",
       " (57, 33),\n",
       " (55, 32),\n",
       " (39, 31),\n",
       " (131, 31),\n",
       " (90, 31),\n",
       " (7, 31),\n",
       " (84, 31),\n",
       " (161, 30),\n",
       " (79, 29),\n",
       " (99, 29),\n",
       " (54, 28),\n",
       " (30, 27),\n",
       " (91, 26),\n",
       " (101, 26),\n",
       " (23, 25),\n",
       " (17, 24),\n",
       " (134, 24),\n",
       " (240, 23),\n",
       " (21, 23),\n",
       " (9, 22),\n",
       " (102, 21),\n",
       " (104, 21),\n",
       " (35, 21),\n",
       " (80, 21),\n",
       " (31, 20),\n",
       " (34, 20),\n",
       " (75, 20),\n",
       " (143, 20),\n",
       " (89, 20),\n",
       " (60, 19),\n",
       " (103, 18),\n",
       " (5, 17),\n",
       " (427, 17),\n",
       " (122, 16),\n",
       " (68, 16),\n",
       " (203, 15),\n",
       " (58, 15),\n",
       " (120, 14),\n",
       " (238, 14),\n",
       " (77, 13),\n",
       " (420, 13),\n",
       " (202, 13),\n",
       " (37, 11),\n",
       " (48, 11),\n",
       " (2, 11),\n",
       " (266, 10),\n",
       " (85, 10),\n",
       " (254, 9),\n",
       " (78, 9),\n",
       " (10, 9),\n",
       " (62, 9),\n",
       " (1, 9),\n",
       " (36, 8),\n",
       " (111, 8),\n",
       " (6, 8),\n",
       " (115, 7),\n",
       " (74, 7),\n",
       " (106, 6),\n",
       " (127, 5),\n",
       " (22, 5),\n",
       " (83, 5),\n",
       " (33, 4),\n",
       " (32, 4),\n",
       " (11, 3),\n",
       " (82, 2),\n",
       " (86, 2)]"
      ]
     },
     "execution_count": 8,
     "metadata": {},
     "output_type": "execute_result"
    }
   ],
   "source": [
    "character_frequency = Counter(list(character_picks.reshape(character_picks.shape[0]*character_picks.shape[1],)))\n",
    "character_frequency.most_common()"
   ]
  },
  {
   "cell_type": "code",
   "execution_count": 9,
   "metadata": {},
   "outputs": [
    {
     "data": {
      "text/plain": [
       "<matplotlib.lines.Line2D at 0x10d650da0>"
      ]
     },
     "execution_count": 9,
     "metadata": {},
     "output_type": "execute_result"
    },
    {
     "data": {
      "image/png": "[encoded data removed]",
      "text/plain": [
       "<matplotlib.figure.Figure at 0x10d5d3320>"
      ]
     },
     "metadata": {},
     "output_type": "display_data"
    }
   ],
   "source": [
    "y = []\n",
    "cummulative_freq = 0\n",
    "total = character_picks.shape[0] * character_picks.shape[1]\n",
    "counter = 0\n",
    "threshold = 0.90\n",
    "cut_for_threshold  = None\n",
    "for key, freq in character_frequency.most_common():\n",
    "    y.append(freq)\n",
    "    cummulative_freq += freq\n",
    "    counter += 1\n",
    "    if cummulative_freq / total >= threshold and cut_for_threshold is None:\n",
    "        cut_for_threshold = counter \n",
    "plt.plot(list(range(1, len(y)+1)), y)\n",
    "plt.title(\"Character frequency distribution. %0.2f threshold\" % threshold)\n",
    "plt.ylabel(\"Frequency\")\n",
    "plt.axvline(x=cut_for_threshold, color='black')\n",
    "\n",
    "    "
   ]
  },
  {
   "cell_type": "code",
   "execution_count": 10,
   "metadata": {},
   "outputs": [
    {
     "data": {
      "text/plain": [
       "[(-1, 1202),\n",
       " (142, 728),\n",
       " (121, 605),\n",
       " (164, 502),\n",
       " (41, 342),\n",
       " (8, 325),\n",
       " (72, 266),\n",
       " (12, 235),\n",
       " (117, 221),\n",
       " (84, 205),\n",
       " (268, 176),\n",
       " (3, 157),\n",
       " (96, 157),\n",
       " (19, 147),\n",
       " (28, 146),\n",
       " (92, 138),\n",
       " (18, 135),\n",
       " (13, 130),\n",
       " (113, 130),\n",
       " (20, 118),\n",
       " (40, 117),\n",
       " (223, 107),\n",
       " (154, 106),\n",
       " (76, 99),\n",
       " (107, 84),\n",
       " (38, 78),\n",
       " (126, 72),\n",
       " (498, 71),\n",
       " (24, 69),\n",
       " (110, 68),\n",
       " (55, 68),\n",
       " (136, 66),\n",
       " (157, 60),\n",
       " (53, 53),\n",
       " (266, 52),\n",
       " (67, 52),\n",
       " (201, 46),\n",
       " (81, 42),\n",
       " (63, 42),\n",
       " (50, 41),\n",
       " (119, 40),\n",
       " (14, 33),\n",
       " (516, 33),\n",
       " (27, 32),\n",
       " (90, 29),\n",
       " (412, 27),\n",
       " (421, 24),\n",
       " (150, 21),\n",
       " (4, 21),\n",
       " (238, 19),\n",
       " (497, 19),\n",
       " (51, 18),\n",
       " (59, 17),\n",
       " (112, 17),\n",
       " (89, 16),\n",
       " (429, 16),\n",
       " (245, 16),\n",
       " (17, 16),\n",
       " (114, 16),\n",
       " (69, 14),\n",
       " (80, 14),\n",
       " (44, 14),\n",
       " (91, 13),\n",
       " (23, 13),\n",
       " (16, 13),\n",
       " (35, 12),\n",
       " (64, 12),\n",
       " (29, 12),\n",
       " (163, 11),\n",
       " (54, 11),\n",
       " (31, 10),\n",
       " (34, 10),\n",
       " (161, 10),\n",
       " (131, 10),\n",
       " (9, 9),\n",
       " (105, 9),\n",
       " (427, 9),\n",
       " (25, 8),\n",
       " (122, 8),\n",
       " (32, 7),\n",
       " (432, 7),\n",
       " (75, 7),\n",
       " (98, 7),\n",
       " (236, 7),\n",
       " (106, 7),\n",
       " (61, 7),\n",
       " (42, 6),\n",
       " (101, 6),\n",
       " (141, 6),\n",
       " (30, 6),\n",
       " (102, 5),\n",
       " (26, 5),\n",
       " (45, 5),\n",
       " (5, 5),\n",
       " (39, 4),\n",
       " (86, 4),\n",
       " (62, 3),\n",
       " (420, 3),\n",
       " (240, 3),\n",
       " (60, 3),\n",
       " (33, 3),\n",
       " (6, 3),\n",
       " (79, 2),\n",
       " (203, 2),\n",
       " (7, 2),\n",
       " (43, 2),\n",
       " (134, 2),\n",
       " (254, 2),\n",
       " (74, 2),\n",
       " (58, 2),\n",
       " (83, 1),\n",
       " (15, 1),\n",
       " (10, 1),\n",
       " (133, 1),\n",
       " (127, 1),\n",
       " (267, 1),\n",
       " (22, 1),\n",
       " (68, 1),\n",
       " (57, 1),\n",
       " (21, 1),\n",
       " (222, 1),\n",
       " (143, 1),\n",
       " (2, 1),\n",
       " (1, 1),\n",
       " (202, 1)]"
      ]
     },
     "execution_count": 10,
     "metadata": {},
     "output_type": "execute_result"
    }
   ],
   "source": [
    "ban_frequency = Counter(list(character_bans.reshape(character_bans.shape[0]*character_bans.shape[1],)))\n",
    "ban_frequency.most_common()"
   ]
  },
  {
   "cell_type": "code",
   "execution_count": 11,
   "metadata": {},
   "outputs": [
    {
     "data": {
      "text/plain": [
       "<matplotlib.lines.Line2D at 0x10d7b17b8>"
      ]
     },
     "execution_count": 11,
     "metadata": {},
     "output_type": "execute_result"
    },
    {
     "data": {
      "image/png": "[encoded data removed]",
      "text/plain": [
       "<matplotlib.figure.Figure at 0x10d66fc88>"
      ]
     },
     "metadata": {},
     "output_type": "display_data"
    }
   ],
   "source": [
    "y = []\n",
    "cummulative_freq = 0\n",
    "counter = 0\n",
    "threshold = 0.90\n",
    "cut_for_threshold  = None\n",
    "total = character_bans.shape[0] * character_bans.shape[1]\n",
    "for key, freq in ban_frequency.most_common():\n",
    "    y.append(freq)\n",
    "    cummulative_freq += freq\n",
    "    counter += 1\n",
    "    if cummulative_freq / total >= threshold and cut_for_threshold is None:\n",
    "        cut_for_threshold = counter \n",
    "plt.plot(list(range(1, len(y)+1)), y)\n",
    "plt.title(\"Ban frequency distribution. %0.2f threshold\" % threshold)\n",
    "plt.ylabel(\"Frequency\")\n",
    "plt.axvline(x=cut_for_threshold, color='black')"
   ]
  },
  {
   "cell_type": "code",
   "execution_count": 12,
   "metadata": {
    "collapsed": true
   },
   "outputs": [],
   "source": [
    "def team2oneHot(char_picks, char_bans, char_id_to_feature_id, other_category_value=-1, include_bans=True):\n",
    "    one_hot = np.zeros((1, len(char_id_to_feature_id.keys())))\n",
    "    char_picks = list(char_picks)\n",
    "    char_bans = list(char_bans)\n",
    "    for char_id in char_picks:\n",
    "        feature_id = char_id_to_feature_id.get(char_id, other_category_value)\n",
    "        assert char_id == other_category_value or one_hot[0, feature_id] == 0, \"feature id %i char id %i. Can't pick same character twice\"%(feature_id, char_id)\n",
    "        one_hot[0, feature_id] = 1\n",
    "    if include_bans:\n",
    "        for char_id in char_bans:\n",
    "            feature_id = char_id_to_feature_id.get(char_id, other_category_value)\n",
    "            assert char_id == other_category_value or one_hot[0, feature_id] == 0, \"feature id %i char id %i. Cannot be picked and banned in the same team\"%(feature_id, char_id)\n",
    "            one_hot[0, feature_id] = -1\n",
    "    return one_hot\n",
    "        "
   ]
  },
  {
   "cell_type": "code",
   "execution_count": null,
   "metadata": {
    "collapsed": true
   },
   "outputs": [],
   "source": []
  },
  {
   "cell_type": "code",
   "execution_count": 13,
   "metadata": {
    "collapsed": true
   },
   "outputs": [],
   "source": [
    "# Convert character picks to one hot encoding\n",
    "# It would be interesting to try word2vec encoding on the characters and picks, that way we might find closeness in team compositions\n",
    "# I could have a set of one hot encoding per team, then we can encode the ban as a -1 in the same column as the pick\n",
    "\n",
    "# Add special value for unseen categories\n",
    "other_category_value = -1\n",
    "possible_character_values = list(np.unique(character_picks))\n",
    "assert other_category_value not in possible_character_values, \"we want to use this as a special value\"\n",
    "possible_character_values.append(other_category_value) # We want to leave an extra category for unseen values. In this case it will match the no-ban category\n",
    "\n",
    "\n",
    "# Create dictionary for mapping values\n",
    "char_id_to_feature_id = {}\n",
    "feature_id = 0\n",
    "for char_id in possible_character_values:\n",
    "    char_id_to_feature_id[char_id] = feature_id\n",
    "    feature_id += 1\n",
    "#TODO create reverse dictionary\n",
    "\n",
    "# Split data into teams\n",
    "team_a_picks = character_picks[:, 0:5]\n",
    "team_b_picks = character_picks[:, 5:10]\n",
    "team_a_bans = character_bans[:, 0:5]\n",
    "team_b_bans = character_bans[:, 5:10]\n",
    "\n",
    "# Placeholders for new data\n",
    "num_features = len(possible_character_values)\n",
    "team_a = np.zeros((num_samples, num_features))\n",
    "team_b = np.zeros((num_samples, num_features))\n",
    "\n",
    "for sample_id in range(num_samples):\n",
    "    #try:\n",
    "    team_a[sample_id, :] = team2oneHot(team_a_picks[sample_id], team_a_bans[sample_id], char_id_to_feature_id, other_category_value, include_bans=False)\n",
    "    team_b[sample_id, :] = team2oneHot(team_b_picks[sample_id], team_b_bans[sample_id], char_id_to_feature_id, other_category_value, include_bans=False)\n",
    "    #except(AssertionError):\n",
    "    #    print(\"Sample id with assertion errors: \", sample_id)\n",
    "data = np.hstack((team_a, team_b))"
   ]
  },
  {
   "cell_type": "code",
   "execution_count": 14,
   "metadata": {
    "collapsed": true
   },
   "outputs": [],
   "source": [
    "# Split data into train, valid, test sets\n",
    "import random\n",
    "import math\n",
    "def split_data(data, y, split_values={'train':0.6, 'valid':0.2, 'test':0.2}):\n",
    "    sample_ids = list(range(data.shape[0]))\n",
    "    N = len(sample_ids)\n",
    "    random.shuffle(sample_ids)\n",
    "    train_limit = int(math.floor(N*split_values['train']))\n",
    "    valid_limit = int(math.floor(N*(split_values['train'] + split_values['valid'])))\n",
    "    test_limit = N\n",
    "    train_data = np.asarray(data[0:train_limit])\n",
    "    train_y = np.asarray(y[0:train_limit])\n",
    "    valid_data = np.asarray(data[train_limit:valid_limit])\n",
    "    valid_y = np.asarray(y[train_limit:valid_limit])\n",
    "    test_data = np.asarray(data[valid_limit:test_limit])\n",
    "    test_y = np.asarray(y[valid_limit:test_limit])\n",
    "    assert train_data.shape[0] == train_y.shape[0]\n",
    "    assert valid_data.shape[0] == valid_y.shape[0]\n",
    "    assert test_data.shape[0] == test_y.shape[0]\n",
    "    return [(train_data, train_y), (valid_data, valid_y), (test_data, test_y)]"
   ]
  },
  {
   "cell_type": "code",
   "execution_count": 28,
   "metadata": {
    "collapsed": true
   },
   "outputs": [],
   "source": [
    "(train_data, train_y), (valid_data, valid_y), (test_data, test_y) = split_data(data, labels)"
   ]
  },
  {
   "cell_type": "code",
   "execution_count": 29,
   "metadata": {},
   "outputs": [
    {
     "name": "stdout",
     "output_type": "stream",
     "text": [
      "(495, 276)\n",
      "(495, 276)\n",
      "(990,)\n"
     ]
    }
   ],
   "source": [
    "# Augment dataset by inverting team order\n",
    "\n",
    "inverted = np.hstack((train_data[:, int(train_data.shape[1]/2):], train_data[:, 0:int(train_data.shape[1]/2)]))\n",
    "print(train_data.shape)\n",
    "print(inverted.shape)\n",
    "train_data = np.vstack((train_data, inverted))\n",
    "assert train_data.shape[0] == 2*inverted.shape[0]\n",
    "assert train_data.shape[1] == inverted.shape[1]\n",
    "\n",
    "inverted_y = ~train_y\n",
    "train_y = np.hstack((train_y, inverted_y))\n",
    "print(train_y.shape)\n",
    "assert 2*inverted_y.shape[0] == train_y.shape[0]\n"
   ]
  },
  {
   "cell_type": "code",
   "execution_count": 30,
   "metadata": {},
   "outputs": [
    {
     "data": {
      "text/plain": [
       "LogisticRegression(C=1.0, class_weight=None, dual=False, fit_intercept=True,\n",
       "          intercept_scaling=1, max_iter=100, multi_class='ovr', n_jobs=1,\n",
       "          penalty='l1', random_state=None, solver='liblinear', tol=0.0001,\n",
       "          verbose=0, warm_start=False)"
      ]
     },
     "execution_count": 30,
     "metadata": {},
     "output_type": "execute_result"
    }
   ],
   "source": [
    "# Train logisitic regression\n",
    "from sklearn.linear_model import LogisticRegression\n",
    "\n",
    "model = LogisticRegression(penalty='l1')\n",
    "model.fit(train_data, train_y)"
   ]
  },
  {
   "cell_type": "code",
   "execution_count": 31,
   "metadata": {},
   "outputs": [
    {
     "name": "stdout",
     "output_type": "stream",
     "text": [
      "Train Accuracy:  0.6989898989898989\n",
      "Valid Accuracy:  0.5151515151515151\n"
     ]
    }
   ],
   "source": [
    "# Evaluate performance\n",
    "predictions = model.predict(train_data)\n",
    "accuracy = np.sum(predictions == train_y) / train_y.shape[0]\n",
    "print(\"Train Accuracy: \", accuracy)\n",
    "\n",
    "predictions = model.predict(valid_data)\n",
    "accuracy = np.sum(predictions == valid_y) / valid_y.shape[0]\n",
    "print(\"Valid Accuracy: \", accuracy)"
   ]
  },
  {
   "cell_type": "code",
   "execution_count": 32,
   "metadata": {},
   "outputs": [
    {
     "name": "stdout",
     "output_type": "stream",
     "text": [
      "(1, 276)\n",
      "[10, 20, 29, 44, 95]\n",
      "[10, 20, 29, 44, 95]\n"
     ]
    }
   ],
   "source": [
    "# Check weights to see most important features\n",
    "weights = model.coef_\n",
    "print(weights.shape)\n",
    "team_a_w = weights[0, 0:int(weights.shape[1]/2)]\n",
    "team_b_w = weights[0, int(weights.shape[1]/2):]\n",
    "\n",
    "most_important_a = []\n",
    "for pos, value in enumerate(team_a_w):\n",
    "    if abs(value) > 0.9:\n",
    "        most_important_a.append(pos)\n",
    "print(most_important_a)\n",
    "        \n",
    "most_important_b = []\n",
    "for pos, value in enumerate(team_b_w):\n",
    "    if abs(value) > 0.9:\n",
    "        most_important_b.append(pos)\n",
    "print(most_important_b)"
   ]
  },
  {
   "cell_type": "code",
   "execution_count": null,
   "metadata": {
    "collapsed": true
   },
   "outputs": [],
   "source": [
    "# Try shared weights\n",
    "# For character type, just include extra features that refer to the composition.\n",
    "#"
   ]
  }
 ],
 "metadata": {
  "anaconda-cloud": {},
  "kernelspec": {
   "display_name": "Python [py3Keras2_env]",
   "language": "python",
   "name": "Python [py3Keras2_env]"
  },
  "language_info": {
   "codemirror_mode": {
    "name": "ipython",
    "version": 3
   },
   "file_extension": ".py",
   "mimetype": "text/x-python",
   "name": "python",
   "nbconvert_exporter": "python",
   "pygments_lexer": "ipython3",
   "version": "3.6.0"
  }
 },
 "nbformat": 4,
 "nbformat_minor": 1
}
